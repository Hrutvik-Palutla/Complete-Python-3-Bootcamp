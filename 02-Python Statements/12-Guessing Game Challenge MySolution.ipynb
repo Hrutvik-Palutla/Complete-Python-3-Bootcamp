{
 "cells": [
  {
   "cell_type": "markdown",
   "metadata": {},
   "source": [
    "___\n",
    "\n",
    "<a href='https://www.udemy.com/user/joseportilla/'><img src='../Pierian_Data_Logo.png'/></a>\n",
    "___\n",
    "<center><em>Content Copyright by Pierian Data</em></center>"
   ]
  },
  {
   "cell_type": "markdown",
   "metadata": {},
   "source": [
    "# Guessing Game Challenge\n",
    "\n",
    "Let's use `while` loops to create a guessing game.\n",
    "\n",
    "The Challenge:\n",
    "\n",
    "Write a program that picks a random integer from 1 to 100, and has players guess the number. The rules are:\n",
    "\n",
    "1. If a player's guess is less than 1 or greater than 100, say \"OUT OF BOUNDS\"\n",
    "2. On a player's first turn, if their guess is\n",
    " * within 10 of the number, return \"WARM!\"\n",
    " * further than 10 away from the number, return \"COLD!\"\n",
    "3. On all subsequent turns, if a guess is \n",
    " * closer to the number than the previous guess return \"WARMER!\"\n",
    " * farther from the number than the previous guess, return \"COLDER!\"\n",
    "4. When the player's guess equals the number, tell them they've guessed correctly *and* how many guesses it took!\n",
    "\n",
    "You can try this from scratch, or follow the steps outlined below. A separate Solution notebook has been provided. Good luck!\n"
   ]
  },
  {
   "cell_type": "markdown",
   "metadata": {},
   "source": [
    "#### First, pick a random integer from 1 to 100 using the random module and assign it to a variable\n",
    "\n",
    "Note: `random.randint(a,b)` returns a random integer in range `[a, b]`, including both end points."
   ]
  },
  {
   "cell_type": "markdown",
   "metadata": {},
   "source": [
    "#### Next, print an introduction to the game and explain the rules"
   ]
  },
  {
   "cell_type": "markdown",
   "metadata": {},
   "source": [
    "#### Create a list to store guesses\n",
    "\n",
    "Hint: zero is a good placeholder value. It's useful because it evaluates to \"False\""
   ]
  },
  {
   "cell_type": "markdown",
   "metadata": {},
   "source": [
    "#### Write a `while` loop that asks for a valid guess. Test it a few times to make sure it works."
   ]
  },
  {
   "cell_type": "markdown",
   "metadata": {},
   "source": [
    "#### Write a `while` loop that compares the player's guess to our number. If the player guesses correctly, break from the loop. Otherwise, tell the player if they're warmer or colder, and continue asking for guesses.\n",
    "\n",
    "Some hints:\n",
    "* it may help to sketch out all possible combinations on paper first!\n",
    "* you can use the `abs()` function to find the positive difference between two numbers\n",
    "* if you append all new guesses to the list, then the previous guess is given as `guesses[-2]`"
   ]
  },
  {
   "cell_type": "code",
   "execution_count": 4,
   "metadata": {},
   "outputs": [
    {
     "name": "stdout",
     "output_type": "stream",
     "text": [
      "The Number Guessing Game\n",
      "Your task is to guess a random number between 1 and 100 selected by the computer.\n",
      "The goal is the guess the number in the smallest amount of guesses, with the following hints:\n",
      "1. If the number guessed is less than within 10 integers of the correct number, you get the WARM response.\n",
      "2. If the number guessed is more than within 10 integers of the correct number, you get the COOL response.\n",
      "Let the fun begin!\n",
      "Selecting number.....DONE\n",
      "Enter your guess: 68\n",
      "\n",
      "\n",
      "Your guess is COOL!\n",
      "Your guesses till now are:\n",
      "68, ?\n",
      "\n",
      "\n",
      "Enter your guess: 23\n",
      "\n",
      "\n",
      "Your guess is COOL!\n",
      "Your guesses till now are:\n",
      "68, 23, ?\n",
      "\n",
      "\n",
      "Enter your guess: 45\n",
      "\n",
      "\n",
      "Your guess is WARM!\n",
      "Your guesses till now are:\n",
      "68, 23, 45, ?\n",
      "\n",
      "\n",
      "Enter your guess: 101\n",
      "\n",
      "\n",
      "OUT OF BOUNDS! The number lies between 1 and 100!\n",
      "Your guesses till now are:\n",
      "68, 23, 45, ?\n",
      "\n",
      "\n",
      "Enter your guess: 43\n",
      "\n",
      "\n",
      "Your guess is WARM!\n",
      "Your guesses till now are:\n",
      "68, 23, 45, 43, ?\n",
      "\n",
      "\n",
      "Enter your guess: 41\n",
      "\n",
      "\n",
      "Your guess is WARM!\n",
      "Your guesses till now are:\n",
      "68, 23, 45, 43, 41, ?\n",
      "\n",
      "\n",
      "Enter your guess: 39\n",
      "\n",
      "\n",
      "Your guess is COOL!\n",
      "Your guesses till now are:\n",
      "68, 23, 45, 43, 41, 39, ?\n",
      "\n",
      "\n",
      "Enter your guess: 49\n",
      "\n",
      "\n",
      "Your guess is WARM!\n",
      "Your guesses till now are:\n",
      "68, 23, 45, 43, 41, 39, 49, ?\n",
      "\n",
      "\n",
      "Enter your guess: 48\n",
      "\n",
      "\n",
      "Your guess is WARM!\n",
      "Your guesses till now are:\n",
      "68, 23, 45, 43, 41, 39, 49, 48, ?\n",
      "\n",
      "\n",
      "Enter your guess: 50\n",
      "\n",
      "\n",
      "Your guess is WARM!\n",
      "Your guesses till now are:\n",
      "68, 23, 45, 43, 41, 39, 49, 48, 50, ?\n",
      "\n",
      "\n",
      "Enter your guess: 51\n",
      "\n",
      "\n",
      "You've guessed the correct number! It is 51.\n",
      "It took you 10 tries to do so. So, your score is 9100 points.\n",
      "Care to play again? Rerun the cell!\n"
     ]
    }
   ],
   "source": [
    "#Game Code:\n",
    "import time as t\n",
    "import random as r\n",
    "print(\"The Number Guessing Game\")\n",
    "print(\"Your task is to guess a random number between 1 and 100 selected by the computer.\")\n",
    "print(\"The goal is the guess the number in the smallest amount of guesses, with the following hints:\")\n",
    "print(\"1. If the number guessed is less than within 10 integers of the correct number, you get the WARM response.\")\n",
    "print(\"2. If the number guessed is more than within 10 integers of the correct number, you get the COOL response.\")\n",
    "print(\"Let the fun begin!\")\n",
    "print(\"Selecting number.\",end=\"\")\n",
    "t.sleep(0.4)\n",
    "print(\".\",end=\"\")\n",
    "t.sleep(0.4)\n",
    "print(\".\",end=\"\")\n",
    "t.sleep(0.4)\n",
    "print(\".\",end=\"\")\n",
    "t.sleep(0.4)\n",
    "print(\".DONE\")\n",
    "number = r.randint(1,100)\n",
    "guess_number = 0\n",
    "invalid_guess = 0\n",
    "guess_list = []\n",
    "while guess_number != number:\n",
    "    if len(guess_list) != 0:\n",
    "        print(\"Your guesses till now are:\")\n",
    "        for guess in guess_list:\n",
    "            print(guess,end=\", \")\n",
    "        print(\"?\")\n",
    "        print(\"\\n\")\n",
    "    guess_number = int(input(\"Enter your guess: \"))\n",
    "    print(\"\\n\")\n",
    "    guess_list.append(guess_number)\n",
    "    diff = abs(number - guess_number)\n",
    "    if guess_number <= 0 or guess_number >= 101:\n",
    "        print(\"OUT OF BOUNDS! The number lies between 1 and 100!\")\n",
    "        invalid_guess = guess_list.pop()\n",
    "        continue\n",
    "    elif diff <= 10 and diff != 0:\n",
    "        print(\"Your guess is WARM!\")\n",
    "        continue\n",
    "    elif diff > 10:\n",
    "        print(\"Your guess is COOL!\")\n",
    "        continue\n",
    "    else:\n",
    "        break\n",
    "number_of_guesses = len(guess_list)\n",
    "score = (101 - number_of_guesses)*100\n",
    "print(\"You've guessed the correct number! It is {}.\".format(number))\n",
    "print(\"It took you {} tries to do so. So, your score is {} points.\".format(number_of_guesses,score))\n",
    "print(\"Care to play again? Rerun the cell!\")"
   ]
  },
  {
   "cell_type": "markdown",
   "metadata": {},
   "source": [
    "That's it! You've just programmed your first game!\n",
    "\n",
    "In the next section we'll learn how to turn some of these repetitive actions into *functions* that can be called whenever we need them."
   ]
  },
  {
   "cell_type": "markdown",
   "metadata": {},
   "source": [
    "### Good Job!"
   ]
  }
 ],
 "metadata": {
  "kernelspec": {
   "display_name": "Python 3 (ipykernel)",
   "language": "python",
   "name": "python3"
  },
  "language_info": {
   "codemirror_mode": {
    "name": "ipython",
    "version": 3
   },
   "file_extension": ".py",
   "mimetype": "text/x-python",
   "name": "python",
   "nbconvert_exporter": "python",
   "pygments_lexer": "ipython3",
   "version": "3.9.13"
  }
 },
 "nbformat": 4,
 "nbformat_minor": 2
}
